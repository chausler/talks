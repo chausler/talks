{
 "metadata": {
  "celltoolbar": "Slideshow",
  "name": "",
  "signature": "sha256:3ef31136e87374a6f5d81d9c5e5eb5f808b2aff20bf20bfdfb8556d1be38212e"
 },
 "nbformat": 3,
 "nbformat_minor": 0,
 "worksheets": [
  {
   "cells": [
    {
     "cell_type": "markdown",
     "metadata": {
      "slideshow": {
       "slide_type": "slide"
      }
     },
     "source": [
      "# Me: Chris Hausler, Snr Data Engineer @ Zendesk\n",
      "<img src=\"zendesk.png\">\n",
      "# Now: Pandas"
     ]
    },
    {
     "cell_type": "markdown",
     "metadata": {
      "slideshow": {
       "slide_type": "slide"
      }
     },
     "source": [
      "## Python Data Analysis Library (pandas)\n",
      "\n",
      "* open source\n",
      "* BSD-licensed library\n",
      "* high-performance\n",
      "* easy-to-use ... sort of  \n",
      "\n",
      "\n",
      "<b>Creates somthing similar to R DataFrames.. but better</b>"
     ]
    },
    {
     "cell_type": "markdown",
     "metadata": {
      "slideshow": {
       "slide_type": "slide"
      }
     },
     "source": [
      "### I think it's great, but I'm still a bit clumsy with it .. also the doco is still a little hit and miss"
     ]
    },
    {
     "cell_type": "markdown",
     "metadata": {
      "slideshow": {
       "slide_type": "slide"
      }
     },
     "source": [
      "#### Some imports"
     ]
    },
    {
     "cell_type": "code",
     "collapsed": false,
     "input": [
      "import warnings\n",
      "warnings.filterwarnings(\"ignore\", category=DeprecationWarning)\n",
      "warnings.filterwarnings(\"ignore\", category=UserWarning)"
     ],
     "language": "python",
     "metadata": {
      "slideshow": {
       "slide_type": "-"
      }
     },
     "outputs": [],
     "prompt_number": 8
    },
    {
     "cell_type": "code",
     "collapsed": false,
     "input": [
      "import numpy as np\n",
      "import pandas as pd\n",
      "import pylab as plt\n",
      "import matplotlib \n",
      "import seaborn as sns\n",
      "%matplotlib inline\n",
      "pd.__version__"
     ],
     "language": "python",
     "metadata": {
      "slideshow": {
       "slide_type": "-"
      }
     },
     "outputs": [
      {
       "metadata": {},
       "output_type": "pyout",
       "prompt_number": 17,
       "text": [
        "'0.14.1'"
       ]
      }
     ],
     "prompt_number": 17
    },
    {
     "cell_type": "markdown",
     "metadata": {
      "slideshow": {
       "slide_type": "slide"
      }
     },
     "source": [
      "### <code>pandas</code> has two main data structures: <code>Series</code> and <code>DataFrame</code>"
     ]
    },
    {
     "cell_type": "markdown",
     "metadata": {
      "slideshow": {
       "slide_type": "slide"
      }
     },
     "source": [
      "## Series - Like a one dimensional array but better"
     ]
    },
    {
     "cell_type": "code",
     "collapsed": false,
     "input": [
      "values = [5,3,4,8,2,9]\n",
      "vals = pd.Series(values)\n",
      "vals"
     ],
     "language": "python",
     "metadata": {},
     "outputs": [
      {
       "metadata": {},
       "output_type": "pyout",
       "prompt_number": 10,
       "text": [
        "0    5\n",
        "1    3\n",
        "2    4\n",
        "3    8\n",
        "4    2\n",
        "5    9\n",
        "dtype: int64"
       ]
      }
     ],
     "prompt_number": 10
    },
    {
     "cell_type": "markdown",
     "metadata": {},
     "source": [
      "###Each value is now associated with an _index_.  \n",
      "###The index itself is an object of class <code>Index</code> and can be manipulated directly."
     ]
    },
    {
     "cell_type": "code",
     "collapsed": false,
     "input": [
      "vals.index"
     ],
     "language": "python",
     "metadata": {
      "slideshow": {
       "slide_type": "fragment"
      }
     },
     "outputs": [
      {
       "metadata": {},
       "output_type": "pyout",
       "prompt_number": 11,
       "text": [
        "Int64Index([0, 1, 2, 3, 4, 5], dtype='int64')"
       ]
      }
     ],
     "prompt_number": 11
    },
    {
     "cell_type": "code",
     "collapsed": false,
     "input": [
      "vals.values"
     ],
     "language": "python",
     "metadata": {
      "slideshow": {
       "slide_type": "fragment"
      }
     },
     "outputs": [
      {
       "metadata": {},
       "output_type": "pyout",
       "prompt_number": 12,
       "text": [
        "array([5, 3, 4, 8, 2, 9])"
       ]
      }
     ],
     "prompt_number": 12
    },
    {
     "cell_type": "code",
     "collapsed": false,
     "input": [
      "vals * 2.5"
     ],
     "language": "python",
     "metadata": {
      "slideshow": {
       "slide_type": "fragment"
      }
     },
     "outputs": [
      {
       "metadata": {},
       "output_type": "pyout",
       "prompt_number": 13,
       "text": [
        "0    12.5\n",
        "1     7.5\n",
        "2    10.0\n",
        "3    20.0\n",
        "4     5.0\n",
        "5    22.5\n",
        "dtype: float64"
       ]
      }
     ],
     "prompt_number": 13
    },
    {
     "cell_type": "markdown",
     "metadata": {
      "slideshow": {
       "slide_type": "slide"
      }
     },
     "source": [
      "###We can use text based indexes too"
     ]
    },
    {
     "cell_type": "code",
     "collapsed": false,
     "input": [
      "vals2 = pd.Series(values, index=['tom','sally','jeff','george','pablo','florence'])\n",
      "vals2"
     ],
     "language": "python",
     "metadata": {
      "slideshow": {
       "slide_type": "-"
      }
     },
     "outputs": [
      {
       "metadata": {},
       "output_type": "pyout",
       "prompt_number": 14,
       "text": [
        "tom         5\n",
        "sally       3\n",
        "jeff        4\n",
        "george      8\n",
        "pablo       2\n",
        "florence    9\n",
        "dtype: int64"
       ]
      }
     ],
     "prompt_number": 14
    },
    {
     "cell_type": "markdown",
     "metadata": {
      "slideshow": {
       "slide_type": "fragment"
      }
     },
     "source": [
      "###And use these to get the data we want"
     ]
    },
    {
     "cell_type": "code",
     "collapsed": false,
     "input": [
      "vals2[['florence','tom']]"
     ],
     "language": "python",
     "metadata": {
      "slideshow": {
       "slide_type": "fragment"
      }
     },
     "outputs": [
      {
       "metadata": {},
       "output_type": "pyout",
       "prompt_number": 18,
       "text": [
        "florence    9\n",
        "tom         5\n",
        "dtype: int64"
       ]
      }
     ],
     "prompt_number": 18
    },
    {
     "cell_type": "code",
     "collapsed": false,
     "input": [
      "vals2[['florence','tom','kate']]"
     ],
     "language": "python",
     "metadata": {
      "slideshow": {
       "slide_type": "fragment"
      }
     },
     "outputs": [
      {
       "metadata": {},
       "output_type": "pyout",
       "prompt_number": 19,
       "text": [
        "florence     9\n",
        "tom          5\n",
        "kate       NaN\n",
        "dtype: float64"
       ]
      }
     ],
     "prompt_number": 19
    },
    {
     "cell_type": "markdown",
     "metadata": {
      "slideshow": {
       "slide_type": "slide"
      }
     },
     "source": [
      "###Dealing with missing values"
     ]
    },
    {
     "cell_type": "code",
     "collapsed": false,
     "input": [
      "vals3 = vals2[['tom','sally','pablo','florence','ricky','katrin']]\n",
      "vals3"
     ],
     "language": "python",
     "metadata": {
      "slideshow": {
       "slide_type": "-"
      }
     },
     "outputs": [
      {
       "metadata": {},
       "output_type": "pyout",
       "prompt_number": 20,
       "text": [
        "tom          5\n",
        "sally        3\n",
        "pablo        2\n",
        "florence     9\n",
        "ricky      NaN\n",
        "katrin     NaN\n",
        "dtype: float64"
       ]
      }
     ],
     "prompt_number": 20
    },
    {
     "cell_type": "markdown",
     "metadata": {
      "slideshow": {
       "slide_type": "slide"
      }
     },
     "source": [
      "###1. Get rid of them"
     ]
    },
    {
     "cell_type": "code",
     "collapsed": false,
     "input": [
      "vals3.dropna()"
     ],
     "language": "python",
     "metadata": {
      "slideshow": {
       "slide_type": "-"
      }
     },
     "outputs": [
      {
       "metadata": {},
       "output_type": "pyout",
       "prompt_number": 22,
       "text": [
        "tom         5\n",
        "sally       3\n",
        "pablo       2\n",
        "florence    9\n",
        "dtype: float64"
       ]
      }
     ],
     "prompt_number": 22
    },
    {
     "cell_type": "markdown",
     "metadata": {
      "slideshow": {
       "slide_type": "slide"
      }
     },
     "source": [
      "###2. Fill them with something"
     ]
    },
    {
     "cell_type": "code",
     "collapsed": false,
     "input": [
      "vals3.fillna(0)"
     ],
     "language": "python",
     "metadata": {
      "slideshow": {
       "slide_type": "-"
      }
     },
     "outputs": [
      {
       "metadata": {},
       "output_type": "pyout",
       "prompt_number": 23,
       "text": [
        "tom         5\n",
        "sally       3\n",
        "pablo       2\n",
        "florence    9\n",
        "ricky       0\n",
        "katrin      0\n",
        "dtype: float64"
       ]
      }
     ],
     "prompt_number": 23
    },
    {
     "cell_type": "markdown",
     "metadata": {
      "slideshow": {
       "slide_type": "slide"
      }
     },
     "source": [
      "###3. Fill them with a calculated value"
     ]
    },
    {
     "cell_type": "code",
     "collapsed": false,
     "input": [
      "vals3.fillna(vals3.mean())"
     ],
     "language": "python",
     "metadata": {
      "slideshow": {
       "slide_type": "-"
      }
     },
     "outputs": [
      {
       "metadata": {},
       "output_type": "pyout",
       "prompt_number": 24,
       "text": [
        "tom         5.00\n",
        "sally       3.00\n",
        "pablo       2.00\n",
        "florence    9.00\n",
        "ricky       4.75\n",
        "katrin      4.75\n",
        "dtype: float64"
       ]
      }
     ],
     "prompt_number": 24
    },
    {
     "cell_type": "markdown",
     "metadata": {
      "slideshow": {
       "slide_type": "slide"
      }
     },
     "source": [
      "###4. Use a function like forward fill"
     ]
    },
    {
     "cell_type": "code",
     "collapsed": false,
     "input": [
      "vals3.fillna(method='ffill')"
     ],
     "language": "python",
     "metadata": {
      "slideshow": {
       "slide_type": "-"
      }
     },
     "outputs": [
      {
       "metadata": {},
       "output_type": "pyout",
       "prompt_number": 25,
       "text": [
        "tom         5\n",
        "sally       3\n",
        "pablo       2\n",
        "florence    9\n",
        "ricky       9\n",
        "katrin      9\n",
        "dtype: float64"
       ]
      }
     ],
     "prompt_number": 25
    },
    {
     "cell_type": "markdown",
     "metadata": {
      "slideshow": {
       "slide_type": "slide"
      }
     },
     "source": [
      "###We also have a handy way to get a picture of our data"
     ]
    },
    {
     "cell_type": "code",
     "collapsed": false,
     "input": [
      "vals3.describe()"
     ],
     "language": "python",
     "metadata": {
      "slideshow": {
       "slide_type": "-"
      }
     },
     "outputs": [
      {
       "metadata": {},
       "output_type": "pyout",
       "prompt_number": 26,
       "text": [
        "count    4.000000\n",
        "mean     4.750000\n",
        "std      3.095696\n",
        "min      2.000000\n",
        "25%      2.750000\n",
        "50%      4.000000\n",
        "75%      6.000000\n",
        "max      9.000000\n",
        "dtype: float64"
       ]
      }
     ],
     "prompt_number": 26
    },
    {
     "cell_type": "markdown",
     "metadata": {
      "slideshow": {
       "slide_type": "slide"
      }
     },
     "source": [
      "# DataFrame\n",
      "##Like a 2D array... with bells and whistles"
     ]
    },
    {
     "cell_type": "code",
     "collapsed": false,
     "input": [
      "vals.index=pd.Index(['tom','sally','pablo','florence','ricky','katrin'])\n",
      "vals3=vals3[['tom','sally','pablo','florence','billy','katrin']]"
     ],
     "language": "python",
     "metadata": {},
     "outputs": [],
     "prompt_number": 28
    },
    {
     "cell_type": "code",
     "collapsed": false,
     "input": [
      "# create a dataframe\n",
      "dat = pd.DataFrame({'orig':vals,'new':vals3})\n",
      "dat"
     ],
     "language": "python",
     "metadata": {},
     "outputs": [
      {
       "html": [
        "<div style=\"max-height:1000px;max-width:1500px;overflow:auto;\">\n",
        "<table border=\"1\" class=\"dataframe\">\n",
        "  <thead>\n",
        "    <tr style=\"text-align: right;\">\n",
        "      <th></th>\n",
        "      <th>new</th>\n",
        "      <th>orig</th>\n",
        "    </tr>\n",
        "  </thead>\n",
        "  <tbody>\n",
        "    <tr>\n",
        "      <th>billy</th>\n",
        "      <td>NaN</td>\n",
        "      <td>NaN</td>\n",
        "    </tr>\n",
        "    <tr>\n",
        "      <th>florence</th>\n",
        "      <td>  9</td>\n",
        "      <td>  8</td>\n",
        "    </tr>\n",
        "    <tr>\n",
        "      <th>katrin</th>\n",
        "      <td>NaN</td>\n",
        "      <td>  9</td>\n",
        "    </tr>\n",
        "    <tr>\n",
        "      <th>pablo</th>\n",
        "      <td>  2</td>\n",
        "      <td>  4</td>\n",
        "    </tr>\n",
        "    <tr>\n",
        "      <th>ricky</th>\n",
        "      <td>NaN</td>\n",
        "      <td>  2</td>\n",
        "    </tr>\n",
        "    <tr>\n",
        "      <th>sally</th>\n",
        "      <td>  3</td>\n",
        "      <td>  3</td>\n",
        "    </tr>\n",
        "    <tr>\n",
        "      <th>tom</th>\n",
        "      <td>  5</td>\n",
        "      <td>  5</td>\n",
        "    </tr>\n",
        "  </tbody>\n",
        "</table>\n",
        "</div>"
       ],
       "metadata": {},
       "output_type": "pyout",
       "prompt_number": 29,
       "text": [
        "          new  orig\n",
        "billy     NaN   NaN\n",
        "florence    9     8\n",
        "katrin    NaN     9\n",
        "pablo       2     4\n",
        "ricky     NaN     2\n",
        "sally       3     3\n",
        "tom         5     5"
       ]
      }
     ],
     "prompt_number": 29
    },
    {
     "cell_type": "markdown",
     "metadata": {
      "slideshow": {
       "slide_type": "slide"
      }
     },
     "source": [
      "###Check for nulls"
     ]
    },
    {
     "cell_type": "code",
     "collapsed": false,
     "input": [
      "dat.isnull()"
     ],
     "language": "python",
     "metadata": {
      "slideshow": {
       "slide_type": "-"
      }
     },
     "outputs": [
      {
       "html": [
        "<div style=\"max-height:1000px;max-width:1500px;overflow:auto;\">\n",
        "<table border=\"1\" class=\"dataframe\">\n",
        "  <thead>\n",
        "    <tr style=\"text-align: right;\">\n",
        "      <th></th>\n",
        "      <th>new</th>\n",
        "      <th>orig</th>\n",
        "    </tr>\n",
        "  </thead>\n",
        "  <tbody>\n",
        "    <tr>\n",
        "      <th>billy</th>\n",
        "      <td>  True</td>\n",
        "      <td>  True</td>\n",
        "    </tr>\n",
        "    <tr>\n",
        "      <th>florence</th>\n",
        "      <td> False</td>\n",
        "      <td> False</td>\n",
        "    </tr>\n",
        "    <tr>\n",
        "      <th>katrin</th>\n",
        "      <td>  True</td>\n",
        "      <td> False</td>\n",
        "    </tr>\n",
        "    <tr>\n",
        "      <th>pablo</th>\n",
        "      <td> False</td>\n",
        "      <td> False</td>\n",
        "    </tr>\n",
        "    <tr>\n",
        "      <th>ricky</th>\n",
        "      <td>  True</td>\n",
        "      <td> False</td>\n",
        "    </tr>\n",
        "    <tr>\n",
        "      <th>sally</th>\n",
        "      <td> False</td>\n",
        "      <td> False</td>\n",
        "    </tr>\n",
        "    <tr>\n",
        "      <th>tom</th>\n",
        "      <td> False</td>\n",
        "      <td> False</td>\n",
        "    </tr>\n",
        "  </tbody>\n",
        "</table>\n",
        "</div>"
       ],
       "metadata": {},
       "output_type": "pyout",
       "prompt_number": 30,
       "text": [
        "            new   orig\n",
        "billy      True   True\n",
        "florence  False  False\n",
        "katrin     True  False\n",
        "pablo     False  False\n",
        "ricky      True  False\n",
        "sally     False  False\n",
        "tom       False  False"
       ]
      }
     ],
     "prompt_number": 30
    },
    {
     "cell_type": "markdown",
     "metadata": {
      "slideshow": {
       "slide_type": "slide"
      }
     },
     "source": [
      "###Drop rows with nulls"
     ]
    },
    {
     "cell_type": "code",
     "collapsed": false,
     "input": [
      "dat.dropna()"
     ],
     "language": "python",
     "metadata": {},
     "outputs": [
      {
       "html": [
        "<div style=\"max-height:1000px;max-width:1500px;overflow:auto;\">\n",
        "<table border=\"1\" class=\"dataframe\">\n",
        "  <thead>\n",
        "    <tr style=\"text-align: right;\">\n",
        "      <th></th>\n",
        "      <th>new</th>\n",
        "      <th>orig</th>\n",
        "    </tr>\n",
        "  </thead>\n",
        "  <tbody>\n",
        "    <tr>\n",
        "      <th>florence</th>\n",
        "      <td> 9</td>\n",
        "      <td> 8</td>\n",
        "    </tr>\n",
        "    <tr>\n",
        "      <th>pablo</th>\n",
        "      <td> 2</td>\n",
        "      <td> 4</td>\n",
        "    </tr>\n",
        "    <tr>\n",
        "      <th>sally</th>\n",
        "      <td> 3</td>\n",
        "      <td> 3</td>\n",
        "    </tr>\n",
        "    <tr>\n",
        "      <th>tom</th>\n",
        "      <td> 5</td>\n",
        "      <td> 5</td>\n",
        "    </tr>\n",
        "  </tbody>\n",
        "</table>\n",
        "</div>"
       ],
       "metadata": {},
       "output_type": "pyout",
       "prompt_number": 31,
       "text": [
        "          new  orig\n",
        "florence    9     8\n",
        "pablo       2     4\n",
        "sally       3     3\n",
        "tom         5     5"
       ]
      }
     ],
     "prompt_number": 31
    },
    {
     "cell_type": "markdown",
     "metadata": {
      "slideshow": {
       "slide_type": "slide"
      }
     },
     "source": [
      "## Timeseries with pandas DataFrames\n",
      "## .... a winning combination\n",
      "\n",
      "Data from google trends.. what correlates (+ve & -ve) with the search term _Hipster_"
     ]
    },
    {
     "cell_type": "markdown",
     "metadata": {
      "slideshow": {
       "slide_type": "slide"
      }
     },
     "source": [
      "####Read hipster correlations from a csv file \n",
      "Pandas supports many file formats for read and write including\n",
      "+ _csv_\n",
      "+ _json_\n",
      "+ _pickle_\n",
      "+ _the clipboard_"
     ]
    },
    {
     "cell_type": "code",
     "collapsed": false,
     "input": [
      "hipster = pd.read_csv('hipster.csv')\n",
      "hipster[:10]"
     ],
     "language": "python",
     "metadata": {},
     "outputs": [
      {
       "html": [
        "<div style=\"max-height:1000px;max-width:1500px;overflow:auto;\">\n",
        "<table border=\"1\" class=\"dataframe\">\n",
        "  <thead>\n",
        "    <tr style=\"text-align: right;\">\n",
        "      <th></th>\n",
        "      <th>Date</th>\n",
        "      <th>hipster</th>\n",
        "      <th>modcloth</th>\n",
        "      <th>gumtree perth</th>\n",
        "    </tr>\n",
        "  </thead>\n",
        "  <tbody>\n",
        "    <tr>\n",
        "      <th>0</th>\n",
        "      <td>  4/01/04</td>\n",
        "      <td>-0.976</td>\n",
        "      <td>-0.817</td>\n",
        "      <td>-0.844</td>\n",
        "    </tr>\n",
        "    <tr>\n",
        "      <th>1</th>\n",
        "      <td> 11/01/04</td>\n",
        "      <td>-0.816</td>\n",
        "      <td>-0.817</td>\n",
        "      <td>-0.844</td>\n",
        "    </tr>\n",
        "    <tr>\n",
        "      <th>2</th>\n",
        "      <td> 18/01/04</td>\n",
        "      <td>-0.837</td>\n",
        "      <td>-0.817</td>\n",
        "      <td>-0.844</td>\n",
        "    </tr>\n",
        "    <tr>\n",
        "      <th>3</th>\n",
        "      <td> 25/01/04</td>\n",
        "      <td>-0.976</td>\n",
        "      <td>-0.817</td>\n",
        "      <td>-0.844</td>\n",
        "    </tr>\n",
        "    <tr>\n",
        "      <th>4</th>\n",
        "      <td>  1/02/04</td>\n",
        "      <td>-0.722</td>\n",
        "      <td>-0.817</td>\n",
        "      <td>-0.844</td>\n",
        "    </tr>\n",
        "    <tr>\n",
        "      <th>5</th>\n",
        "      <td>  8/02/04</td>\n",
        "      <td>-0.795</td>\n",
        "      <td>-0.817</td>\n",
        "      <td>-0.844</td>\n",
        "    </tr>\n",
        "    <tr>\n",
        "      <th>6</th>\n",
        "      <td> 15/02/04</td>\n",
        "      <td>-0.723</td>\n",
        "      <td>-0.817</td>\n",
        "      <td>-0.844</td>\n",
        "    </tr>\n",
        "    <tr>\n",
        "      <th>7</th>\n",
        "      <td> 22/02/04</td>\n",
        "      <td>-0.713</td>\n",
        "      <td>-0.817</td>\n",
        "      <td>-0.844</td>\n",
        "    </tr>\n",
        "    <tr>\n",
        "      <th>8</th>\n",
        "      <td> 29/02/04</td>\n",
        "      <td>-0.786</td>\n",
        "      <td>-0.817</td>\n",
        "      <td>-0.844</td>\n",
        "    </tr>\n",
        "    <tr>\n",
        "      <th>9</th>\n",
        "      <td>  7/03/04</td>\n",
        "      <td>-0.675</td>\n",
        "      <td>-0.817</td>\n",
        "      <td>-0.844</td>\n",
        "    </tr>\n",
        "  </tbody>\n",
        "</table>\n",
        "</div>"
       ],
       "metadata": {},
       "output_type": "pyout",
       "prompt_number": 33,
       "text": [
        "       Date  hipster  modcloth  gumtree perth\n",
        "0   4/01/04   -0.976    -0.817         -0.844\n",
        "1  11/01/04   -0.816    -0.817         -0.844\n",
        "2  18/01/04   -0.837    -0.817         -0.844\n",
        "3  25/01/04   -0.976    -0.817         -0.844\n",
        "4   1/02/04   -0.722    -0.817         -0.844\n",
        "5   8/02/04   -0.795    -0.817         -0.844\n",
        "6  15/02/04   -0.723    -0.817         -0.844\n",
        "7  22/02/04   -0.713    -0.817         -0.844\n",
        "8  29/02/04   -0.786    -0.817         -0.844\n",
        "9   7/03/04   -0.675    -0.817         -0.844"
       ]
      }
     ],
     "prompt_number": 33
    },
    {
     "cell_type": "markdown",
     "metadata": {
      "slideshow": {
       "slide_type": "slide"
      }
     },
     "source": [
      "Set the index to a datetime"
     ]
    },
    {
     "cell_type": "code",
     "collapsed": false,
     "input": [
      "hipster = hipster.set_index(pd.DatetimeIndex(hipster.pop('Date')))\n",
      "hipster[:10]"
     ],
     "language": "python",
     "metadata": {
      "slideshow": {
       "slide_type": "-"
      }
     },
     "outputs": [
      {
       "html": [
        "<div style=\"max-height:1000px;max-width:1500px;overflow:auto;\">\n",
        "<table border=\"1\" class=\"dataframe\">\n",
        "  <thead>\n",
        "    <tr style=\"text-align: right;\">\n",
        "      <th></th>\n",
        "      <th>hipster</th>\n",
        "      <th>modcloth</th>\n",
        "      <th>gumtree perth</th>\n",
        "    </tr>\n",
        "  </thead>\n",
        "  <tbody>\n",
        "    <tr>\n",
        "      <th>2004-04-01</th>\n",
        "      <td>-0.976</td>\n",
        "      <td>-0.817</td>\n",
        "      <td>-0.844</td>\n",
        "    </tr>\n",
        "    <tr>\n",
        "      <th>2004-11-01</th>\n",
        "      <td>-0.816</td>\n",
        "      <td>-0.817</td>\n",
        "      <td>-0.844</td>\n",
        "    </tr>\n",
        "    <tr>\n",
        "      <th>2004-01-18</th>\n",
        "      <td>-0.837</td>\n",
        "      <td>-0.817</td>\n",
        "      <td>-0.844</td>\n",
        "    </tr>\n",
        "    <tr>\n",
        "      <th>2004-01-25</th>\n",
        "      <td>-0.976</td>\n",
        "      <td>-0.817</td>\n",
        "      <td>-0.844</td>\n",
        "    </tr>\n",
        "    <tr>\n",
        "      <th>2004-01-02</th>\n",
        "      <td>-0.722</td>\n",
        "      <td>-0.817</td>\n",
        "      <td>-0.844</td>\n",
        "    </tr>\n",
        "    <tr>\n",
        "      <th>2004-08-02</th>\n",
        "      <td>-0.795</td>\n",
        "      <td>-0.817</td>\n",
        "      <td>-0.844</td>\n",
        "    </tr>\n",
        "    <tr>\n",
        "      <th>2004-02-15</th>\n",
        "      <td>-0.723</td>\n",
        "      <td>-0.817</td>\n",
        "      <td>-0.844</td>\n",
        "    </tr>\n",
        "    <tr>\n",
        "      <th>2004-02-22</th>\n",
        "      <td>-0.713</td>\n",
        "      <td>-0.817</td>\n",
        "      <td>-0.844</td>\n",
        "    </tr>\n",
        "    <tr>\n",
        "      <th>2004-02-29</th>\n",
        "      <td>-0.786</td>\n",
        "      <td>-0.817</td>\n",
        "      <td>-0.844</td>\n",
        "    </tr>\n",
        "    <tr>\n",
        "      <th>2004-07-03</th>\n",
        "      <td>-0.675</td>\n",
        "      <td>-0.817</td>\n",
        "      <td>-0.844</td>\n",
        "    </tr>\n",
        "  </tbody>\n",
        "</table>\n",
        "</div>"
       ],
       "metadata": {},
       "output_type": "pyout",
       "prompt_number": 34,
       "text": [
        "            hipster  modcloth  gumtree perth\n",
        "2004-04-01   -0.976    -0.817         -0.844\n",
        "2004-11-01   -0.816    -0.817         -0.844\n",
        "2004-01-18   -0.837    -0.817         -0.844\n",
        "2004-01-25   -0.976    -0.817         -0.844\n",
        "2004-01-02   -0.722    -0.817         -0.844\n",
        "2004-08-02   -0.795    -0.817         -0.844\n",
        "2004-02-15   -0.723    -0.817         -0.844\n",
        "2004-02-22   -0.713    -0.817         -0.844\n",
        "2004-02-29   -0.786    -0.817         -0.844\n",
        "2004-07-03   -0.675    -0.817         -0.844"
       ]
      }
     ],
     "prompt_number": 34
    },
    {
     "cell_type": "markdown",
     "metadata": {
      "slideshow": {
       "slide_type": "slide"
      }
     },
     "source": [
      "Now load the anti-Hipster data"
     ]
    },
    {
     "cell_type": "code",
     "collapsed": false,
     "input": [
      "not_hipster = pd.read_csv('negative_hipster.csv')\n",
      "not_hipster = not_hipster.set_index(pd.DatetimeIndex(not_hipster.pop('Date')))"
     ],
     "language": "python",
     "metadata": {},
     "outputs": [],
     "prompt_number": 36
    },
    {
     "cell_type": "code",
     "collapsed": false,
     "input": [
      "not_hipster[:10]"
     ],
     "language": "python",
     "metadata": {},
     "outputs": [
      {
       "html": [
        "<div style=\"max-height:1000px;max-width:1500px;overflow:auto;\">\n",
        "<table border=\"1\" class=\"dataframe\">\n",
        "  <thead>\n",
        "    <tr style=\"text-align: right;\">\n",
        "      <th></th>\n",
        "      <th>yellow pages</th>\n",
        "      <th>babelfish</th>\n",
        "      <th>sony ericsson</th>\n",
        "      <th>melway</th>\n",
        "    </tr>\n",
        "  </thead>\n",
        "  <tbody>\n",
        "    <tr>\n",
        "      <th>2004-04-01</th>\n",
        "      <td> 1.341</td>\n",
        "      <td> 0.090</td>\n",
        "      <td> 0.695</td>\n",
        "      <td> 0.983</td>\n",
        "    </tr>\n",
        "    <tr>\n",
        "      <th>2004-11-01</th>\n",
        "      <td> 1.239</td>\n",
        "      <td> 0.256</td>\n",
        "      <td> 0.846</td>\n",
        "      <td> 0.714</td>\n",
        "    </tr>\n",
        "    <tr>\n",
        "      <th>2004-01-18</th>\n",
        "      <td> 1.022</td>\n",
        "      <td>-0.023</td>\n",
        "      <td> 0.558</td>\n",
        "      <td> 0.694</td>\n",
        "    </tr>\n",
        "    <tr>\n",
        "      <th>2004-01-25</th>\n",
        "      <td> 0.923</td>\n",
        "      <td> 0.188</td>\n",
        "      <td> 0.645</td>\n",
        "      <td> 1.104</td>\n",
        "    </tr>\n",
        "    <tr>\n",
        "      <th>2004-01-02</th>\n",
        "      <td> 0.904</td>\n",
        "      <td>-0.009</td>\n",
        "      <td> 0.513</td>\n",
        "      <td> 0.767</td>\n",
        "    </tr>\n",
        "    <tr>\n",
        "      <th>2004-08-02</th>\n",
        "      <td> 0.786</td>\n",
        "      <td> 0.338</td>\n",
        "      <td> 0.694</td>\n",
        "      <td> 1.131</td>\n",
        "    </tr>\n",
        "    <tr>\n",
        "      <th>2004-02-15</th>\n",
        "      <td> 0.729</td>\n",
        "      <td> 0.360</td>\n",
        "      <td> 0.695</td>\n",
        "      <td> 0.985</td>\n",
        "    </tr>\n",
        "    <tr>\n",
        "      <th>2004-02-22</th>\n",
        "      <td> 0.537</td>\n",
        "      <td>-0.070</td>\n",
        "      <td> 0.613</td>\n",
        "      <td> 0.859</td>\n",
        "    </tr>\n",
        "    <tr>\n",
        "      <th>2004-02-29</th>\n",
        "      <td> 0.534</td>\n",
        "      <td> 0.273</td>\n",
        "      <td> 0.447</td>\n",
        "      <td> 1.286</td>\n",
        "    </tr>\n",
        "    <tr>\n",
        "      <th>2004-07-03</th>\n",
        "      <td> 0.229</td>\n",
        "      <td> 0.595</td>\n",
        "      <td> 0.898</td>\n",
        "      <td> 0.810</td>\n",
        "    </tr>\n",
        "  </tbody>\n",
        "</table>\n",
        "</div>"
       ],
       "metadata": {},
       "output_type": "pyout",
       "prompt_number": 37,
       "text": [
        "            yellow pages  babelfish  sony ericsson  melway\n",
        "2004-04-01         1.341      0.090          0.695   0.983\n",
        "2004-11-01         1.239      0.256          0.846   0.714\n",
        "2004-01-18         1.022     -0.023          0.558   0.694\n",
        "2004-01-25         0.923      0.188          0.645   1.104\n",
        "2004-01-02         0.904     -0.009          0.513   0.767\n",
        "2004-08-02         0.786      0.338          0.694   1.131\n",
        "2004-02-15         0.729      0.360          0.695   0.985\n",
        "2004-02-22         0.537     -0.070          0.613   0.859\n",
        "2004-02-29         0.534      0.273          0.447   1.286\n",
        "2004-07-03         0.229      0.595          0.898   0.810"
       ]
      }
     ],
     "prompt_number": 37
    },
    {
     "cell_type": "markdown",
     "metadata": {
      "slideshow": {
       "slide_type": "slide"
      }
     },
     "source": [
      "Check the values of one column"
     ]
    },
    {
     "cell_type": "code",
     "collapsed": false,
     "input": [
      "hipster.hipster.head()"
     ],
     "language": "python",
     "metadata": {},
     "outputs": [
      {
       "metadata": {},
       "output_type": "pyout",
       "prompt_number": 38,
       "text": [
        "2004-04-01   -0.976\n",
        "2004-11-01   -0.816\n",
        "2004-01-18   -0.837\n",
        "2004-01-25   -0.976\n",
        "2004-01-02   -0.722\n",
        "Name: hipster, dtype: float64"
       ]
      }
     ],
     "prompt_number": 38
    },
    {
     "cell_type": "markdown",
     "metadata": {
      "slideshow": {
       "slide_type": "slide"
      }
     },
     "source": [
      "Check another, but get them as an <code>numpy.ndarray</code>"
     ]
    },
    {
     "cell_type": "code",
     "collapsed": false,
     "input": [
      "hipster['gumtree perth'].values[:20]"
     ],
     "language": "python",
     "metadata": {
      "slideshow": {
       "slide_type": "-"
      }
     },
     "outputs": [
      {
       "metadata": {},
       "output_type": "pyout",
       "prompt_number": 39,
       "text": [
        "array([-0.844, -0.844, -0.844, -0.844, -0.844, -0.844, -0.844, -0.844,\n",
        "       -0.844, -0.844, -0.844, -0.844, -0.844, -0.844, -0.844, -0.844,\n",
        "       -0.844, -0.844, -0.844, -0.844])"
       ]
      }
     ],
     "prompt_number": 39
    },
    {
     "cell_type": "markdown",
     "metadata": {
      "slideshow": {
       "slide_type": "slide"
      }
     },
     "source": [
      "View the data types, they don't need to be homogenous"
     ]
    },
    {
     "cell_type": "code",
     "collapsed": false,
     "input": [
      "hipster.dtypes"
     ],
     "language": "python",
     "metadata": {},
     "outputs": [
      {
       "metadata": {},
       "output_type": "pyout",
       "prompt_number": 40,
       "text": [
        "hipster          float64\n",
        "modcloth         float64\n",
        "gumtree perth    float64\n",
        "dtype: object"
       ]
      }
     ],
     "prompt_number": 40
    },
    {
     "cell_type": "markdown",
     "metadata": {
      "slideshow": {
       "slide_type": "slide"
      }
     },
     "source": [
      "Joins on indexes are easy!"
     ]
    },
    {
     "cell_type": "code",
     "collapsed": false,
     "input": [
      "trend = hipster.join(not_hipster, how='inner')\n",
      "trend.head()"
     ],
     "language": "python",
     "metadata": {},
     "outputs": [
      {
       "html": [
        "<div style=\"max-height:1000px;max-width:1500px;overflow:auto;\">\n",
        "<table border=\"1\" class=\"dataframe\">\n",
        "  <thead>\n",
        "    <tr style=\"text-align: right;\">\n",
        "      <th></th>\n",
        "      <th>hipster</th>\n",
        "      <th>modcloth</th>\n",
        "      <th>gumtree perth</th>\n",
        "      <th>yellow pages</th>\n",
        "      <th>babelfish</th>\n",
        "      <th>sony ericsson</th>\n",
        "      <th>melway</th>\n",
        "    </tr>\n",
        "  </thead>\n",
        "  <tbody>\n",
        "    <tr>\n",
        "      <th>2004-04-01</th>\n",
        "      <td>-0.976</td>\n",
        "      <td>-0.817</td>\n",
        "      <td>-0.844</td>\n",
        "      <td> 1.341</td>\n",
        "      <td> 0.090</td>\n",
        "      <td> 0.695</td>\n",
        "      <td> 0.983</td>\n",
        "    </tr>\n",
        "    <tr>\n",
        "      <th>2004-11-01</th>\n",
        "      <td>-0.816</td>\n",
        "      <td>-0.817</td>\n",
        "      <td>-0.844</td>\n",
        "      <td> 1.239</td>\n",
        "      <td> 0.256</td>\n",
        "      <td> 0.846</td>\n",
        "      <td> 0.714</td>\n",
        "    </tr>\n",
        "    <tr>\n",
        "      <th>2004-01-18</th>\n",
        "      <td>-0.837</td>\n",
        "      <td>-0.817</td>\n",
        "      <td>-0.844</td>\n",
        "      <td> 1.022</td>\n",
        "      <td>-0.023</td>\n",
        "      <td> 0.558</td>\n",
        "      <td> 0.694</td>\n",
        "    </tr>\n",
        "    <tr>\n",
        "      <th>2004-01-25</th>\n",
        "      <td>-0.976</td>\n",
        "      <td>-0.817</td>\n",
        "      <td>-0.844</td>\n",
        "      <td> 0.923</td>\n",
        "      <td> 0.188</td>\n",
        "      <td> 0.645</td>\n",
        "      <td> 1.104</td>\n",
        "    </tr>\n",
        "    <tr>\n",
        "      <th>2004-01-02</th>\n",
        "      <td>-0.722</td>\n",
        "      <td>-0.817</td>\n",
        "      <td>-0.844</td>\n",
        "      <td> 0.904</td>\n",
        "      <td>-0.009</td>\n",
        "      <td> 0.513</td>\n",
        "      <td> 0.767</td>\n",
        "    </tr>\n",
        "  </tbody>\n",
        "</table>\n",
        "</div>"
       ],
       "metadata": {},
       "output_type": "pyout",
       "prompt_number": 41,
       "text": [
        "            hipster  modcloth  gumtree perth  yellow pages  babelfish  \\\n",
        "2004-04-01   -0.976    -0.817         -0.844         1.341      0.090   \n",
        "2004-11-01   -0.816    -0.817         -0.844         1.239      0.256   \n",
        "2004-01-18   -0.837    -0.817         -0.844         1.022     -0.023   \n",
        "2004-01-25   -0.976    -0.817         -0.844         0.923      0.188   \n",
        "2004-01-02   -0.722    -0.817         -0.844         0.904     -0.009   \n",
        "\n",
        "            sony ericsson  melway  \n",
        "2004-04-01          0.695   0.983  \n",
        "2004-11-01          0.846   0.714  \n",
        "2004-01-18          0.558   0.694  \n",
        "2004-01-25          0.645   1.104  \n",
        "2004-01-02          0.513   0.767  "
       ]
      }
     ],
     "prompt_number": 41
    },
    {
     "cell_type": "markdown",
     "metadata": {
      "slideshow": {
       "slide_type": "slide"
      }
     },
     "source": [
      "We can check the column names and values"
     ]
    },
    {
     "cell_type": "code",
     "collapsed": false,
     "input": [
      "trend.columns"
     ],
     "language": "python",
     "metadata": {},
     "outputs": [
      {
       "metadata": {},
       "output_type": "pyout",
       "prompt_number": 42,
       "text": [
        "Index([u'hipster', u'modcloth', u'gumtree perth', u'yellow pages', u'babelfish', u'sony ericsson', u'melway'], dtype='object')"
       ]
      }
     ],
     "prompt_number": 42
    },
    {
     "cell_type": "code",
     "collapsed": false,
     "input": [
      "trend.values"
     ],
     "language": "python",
     "metadata": {},
     "outputs": [
      {
       "metadata": {},
       "output_type": "pyout",
       "prompt_number": 43,
       "text": [
        "array([[-0.976, -0.817, -0.844, ...,  0.09 ,  0.695,  0.983],\n",
        "       [-0.816, -0.817, -0.844, ...,  0.256,  0.846,  0.714],\n",
        "       [-0.837, -0.817, -0.844, ..., -0.023,  0.558,  0.694],\n",
        "       ..., \n",
        "       [ 1.142,  1.175,  1.394, ..., -1.692, -1.707, -1.171],\n",
        "       [ 1.187,  1.221,  1.403, ..., -1.654, -1.707, -1.16 ],\n",
        "       [ 1.514,  1.216,  1.365, ..., -1.664, -1.697, -1.171]])"
       ]
      }
     ],
     "prompt_number": 43
    },
    {
     "cell_type": "markdown",
     "metadata": {
      "slideshow": {
       "slide_type": "slide"
      }
     },
     "source": [
      "Filtering on date ranges is simple"
     ]
    },
    {
     "cell_type": "code",
     "collapsed": false,
     "input": [
      "trend['2012-01-01':].head()"
     ],
     "language": "python",
     "metadata": {},
     "outputs": [
      {
       "html": [
        "<div style=\"max-height:1000px;max-width:1500px;overflow:auto;\">\n",
        "<table border=\"1\" class=\"dataframe\">\n",
        "  <thead>\n",
        "    <tr style=\"text-align: right;\">\n",
        "      <th></th>\n",
        "      <th>hipster</th>\n",
        "      <th>modcloth</th>\n",
        "      <th>gumtree perth</th>\n",
        "      <th>yellow pages</th>\n",
        "      <th>babelfish</th>\n",
        "      <th>sony ericsson</th>\n",
        "      <th>melway</th>\n",
        "    </tr>\n",
        "  </thead>\n",
        "  <tbody>\n",
        "    <tr>\n",
        "      <th>2012-01-01</th>\n",
        "      <td> 1.411</td>\n",
        "      <td> 1.192</td>\n",
        "      <td> 1.774</td>\n",
        "      <td>-1.077</td>\n",
        "      <td>-1.132</td>\n",
        "      <td>-0.819</td>\n",
        "      <td>-1.058</td>\n",
        "    </tr>\n",
        "    <tr>\n",
        "      <th>2012-08-01</th>\n",
        "      <td> 1.513</td>\n",
        "      <td> 1.111</td>\n",
        "      <td> 1.579</td>\n",
        "      <td>-0.995</td>\n",
        "      <td>-1.128</td>\n",
        "      <td>-0.889</td>\n",
        "      <td>-1.069</td>\n",
        "    </tr>\n",
        "    <tr>\n",
        "      <th>2012-01-15</th>\n",
        "      <td> 1.523</td>\n",
        "      <td> 1.427</td>\n",
        "      <td> 1.613</td>\n",
        "      <td>-1.027</td>\n",
        "      <td>-1.182</td>\n",
        "      <td>-0.991</td>\n",
        "      <td>-1.074</td>\n",
        "    </tr>\n",
        "    <tr>\n",
        "      <th>2012-01-22</th>\n",
        "      <td> 1.600</td>\n",
        "      <td> 1.490</td>\n",
        "      <td> 1.514</td>\n",
        "      <td>-1.140</td>\n",
        "      <td>-1.197</td>\n",
        "      <td>-0.975</td>\n",
        "      <td>-1.106</td>\n",
        "    </tr>\n",
        "    <tr>\n",
        "      <th>2012-01-29</th>\n",
        "      <td> 1.459</td>\n",
        "      <td> 1.561</td>\n",
        "      <td> 1.511</td>\n",
        "      <td>-1.046</td>\n",
        "      <td>-1.189</td>\n",
        "      <td>-1.027</td>\n",
        "      <td>-1.079</td>\n",
        "    </tr>\n",
        "  </tbody>\n",
        "</table>\n",
        "</div>"
       ],
       "metadata": {},
       "output_type": "pyout",
       "prompt_number": 44,
       "text": [
        "            hipster  modcloth  gumtree perth  yellow pages  babelfish  \\\n",
        "2012-01-01    1.411     1.192          1.774        -1.077     -1.132   \n",
        "2012-08-01    1.513     1.111          1.579        -0.995     -1.128   \n",
        "2012-01-15    1.523     1.427          1.613        -1.027     -1.182   \n",
        "2012-01-22    1.600     1.490          1.514        -1.140     -1.197   \n",
        "2012-01-29    1.459     1.561          1.511        -1.046     -1.189   \n",
        "\n",
        "            sony ericsson  melway  \n",
        "2012-01-01         -0.819  -1.058  \n",
        "2012-08-01         -0.889  -1.069  \n",
        "2012-01-15         -0.991  -1.074  \n",
        "2012-01-22         -0.975  -1.106  \n",
        "2012-01-29         -1.027  -1.079  "
       ]
      }
     ],
     "prompt_number": 44
    },
    {
     "cell_type": "code",
     "collapsed": false,
     "input": [
      "trend['2012-01-01': '2013-01-01'].tail(3)"
     ],
     "language": "python",
     "metadata": {
      "slideshow": {
       "slide_type": "slide"
      }
     },
     "outputs": [
      {
       "html": [
        "<div style=\"max-height:1000px;max-width:1500px;overflow:auto;\">\n",
        "<table border=\"1\" class=\"dataframe\">\n",
        "  <thead>\n",
        "    <tr style=\"text-align: right;\">\n",
        "      <th></th>\n",
        "      <th>hipster</th>\n",
        "      <th>modcloth</th>\n",
        "      <th>gumtree perth</th>\n",
        "      <th>yellow pages</th>\n",
        "      <th>babelfish</th>\n",
        "      <th>sony ericsson</th>\n",
        "      <th>melway</th>\n",
        "    </tr>\n",
        "  </thead>\n",
        "  <tbody>\n",
        "    <tr>\n",
        "      <th>2012-12-16</th>\n",
        "      <td> 1.645</td>\n",
        "      <td> 1.175</td>\n",
        "      <td> 1.407</td>\n",
        "      <td>-1.433</td>\n",
        "      <td>-1.523</td>\n",
        "      <td>-1.545</td>\n",
        "      <td>-1.192</td>\n",
        "    </tr>\n",
        "    <tr>\n",
        "      <th>2012-12-23</th>\n",
        "      <td> 1.591</td>\n",
        "      <td> 1.695</td>\n",
        "      <td> 1.625</td>\n",
        "      <td>-1.698</td>\n",
        "      <td>-1.540</td>\n",
        "      <td>-1.499</td>\n",
        "      <td>-1.207</td>\n",
        "    </tr>\n",
        "    <tr>\n",
        "      <th>2012-12-30</th>\n",
        "      <td> 1.596</td>\n",
        "      <td> 1.515</td>\n",
        "      <td> 1.868</td>\n",
        "      <td>-1.515</td>\n",
        "      <td>-1.531</td>\n",
        "      <td>-1.535</td>\n",
        "      <td>-1.207</td>\n",
        "    </tr>\n",
        "  </tbody>\n",
        "</table>\n",
        "</div>"
       ],
       "metadata": {},
       "output_type": "pyout",
       "prompt_number": 45,
       "text": [
        "            hipster  modcloth  gumtree perth  yellow pages  babelfish  \\\n",
        "2012-12-16    1.645     1.175          1.407        -1.433     -1.523   \n",
        "2012-12-23    1.591     1.695          1.625        -1.698     -1.540   \n",
        "2012-12-30    1.596     1.515          1.868        -1.515     -1.531   \n",
        "\n",
        "            sony ericsson  melway  \n",
        "2012-12-16         -1.545  -1.192  \n",
        "2012-12-23         -1.499  -1.207  \n",
        "2012-12-30         -1.535  -1.207  "
       ]
      }
     ],
     "prompt_number": 45
    },
    {
     "cell_type": "markdown",
     "metadata": {
      "slideshow": {
       "slide_type": "slide"
      }
     },
     "source": [
      "We can also grab a single date, or a subset of columns"
     ]
    },
    {
     "cell_type": "code",
     "collapsed": false,
     "input": [
      "trend.ix['2012-01-01', ['hipster', 'modcloth']]"
     ],
     "language": "python",
     "metadata": {
      "slideshow": {
       "slide_type": "-"
      }
     },
     "outputs": [
      {
       "html": [
        "<div style=\"max-height:1000px;max-width:1500px;overflow:auto;\">\n",
        "<table border=\"1\" class=\"dataframe\">\n",
        "  <thead>\n",
        "    <tr style=\"text-align: right;\">\n",
        "      <th></th>\n",
        "      <th>hipster</th>\n",
        "      <th>modcloth</th>\n",
        "    </tr>\n",
        "  </thead>\n",
        "  <tbody>\n",
        "    <tr>\n",
        "      <th>2012-01-01</th>\n",
        "      <td> 1.411</td>\n",
        "      <td> 1.192</td>\n",
        "    </tr>\n",
        "  </tbody>\n",
        "</table>\n",
        "</div>"
       ],
       "metadata": {},
       "output_type": "pyout",
       "prompt_number": 46,
       "text": [
        "            hipster  modcloth\n",
        "2012-01-01    1.411     1.192"
       ]
      }
     ],
     "prompt_number": 46
    },
    {
     "cell_type": "markdown",
     "metadata": {
      "slideshow": {
       "slide_type": "fragment"
      }
     },
     "source": [
      "Or do some boolean filtering"
     ]
    },
    {
     "cell_type": "code",
     "collapsed": false,
     "input": [
      "trend[trend.melway < 0].head()"
     ],
     "language": "python",
     "metadata": {
      "slideshow": {
       "slide_type": "fragment"
      }
     },
     "outputs": [
      {
       "html": [
        "<div style=\"max-height:1000px;max-width:1500px;overflow:auto;\">\n",
        "<table border=\"1\" class=\"dataframe\">\n",
        "  <thead>\n",
        "    <tr style=\"text-align: right;\">\n",
        "      <th></th>\n",
        "      <th>hipster</th>\n",
        "      <th>modcloth</th>\n",
        "      <th>gumtree perth</th>\n",
        "      <th>yellow pages</th>\n",
        "      <th>babelfish</th>\n",
        "      <th>sony ericsson</th>\n",
        "      <th>melway</th>\n",
        "    </tr>\n",
        "  </thead>\n",
        "  <tbody>\n",
        "    <tr>\n",
        "      <th>2008-02-11</th>\n",
        "      <td>-0.613</td>\n",
        "      <td>-0.759</td>\n",
        "      <td>-0.675</td>\n",
        "      <td> 0.342</td>\n",
        "      <td> 0.402</td>\n",
        "      <td> 0.487</td>\n",
        "      <td>-0.054</td>\n",
        "    </tr>\n",
        "    <tr>\n",
        "      <th>2008-12-21</th>\n",
        "      <td>-0.626</td>\n",
        "      <td>-0.700</td>\n",
        "      <td>-0.650</td>\n",
        "      <td> 0.103</td>\n",
        "      <td> 0.305</td>\n",
        "      <td> 0.973</td>\n",
        "      <td>-0.082</td>\n",
        "    </tr>\n",
        "    <tr>\n",
        "      <th>2008-12-28</th>\n",
        "      <td>-0.721</td>\n",
        "      <td>-0.749</td>\n",
        "      <td>-0.617</td>\n",
        "      <td> 0.371</td>\n",
        "      <td> 0.160</td>\n",
        "      <td> 0.744</td>\n",
        "      <td>-0.193</td>\n",
        "    </tr>\n",
        "    <tr>\n",
        "      <th>2009-04-01</th>\n",
        "      <td>-0.713</td>\n",
        "      <td>-0.726</td>\n",
        "      <td>-0.602</td>\n",
        "      <td> 0.815</td>\n",
        "      <td> 0.256</td>\n",
        "      <td> 0.618</td>\n",
        "      <td>-0.070</td>\n",
        "    </tr>\n",
        "    <tr>\n",
        "      <th>2009-11-01</th>\n",
        "      <td>-0.706</td>\n",
        "      <td>-0.745</td>\n",
        "      <td>-0.602</td>\n",
        "      <td> 0.771</td>\n",
        "      <td> 0.058</td>\n",
        "      <td> 0.596</td>\n",
        "      <td>-0.034</td>\n",
        "    </tr>\n",
        "  </tbody>\n",
        "</table>\n",
        "</div>"
       ],
       "metadata": {},
       "output_type": "pyout",
       "prompt_number": 48,
       "text": [
        "            hipster  modcloth  gumtree perth  yellow pages  babelfish  \\\n",
        "2008-02-11   -0.613    -0.759         -0.675         0.342      0.402   \n",
        "2008-12-21   -0.626    -0.700         -0.650         0.103      0.305   \n",
        "2008-12-28   -0.721    -0.749         -0.617         0.371      0.160   \n",
        "2009-04-01   -0.713    -0.726         -0.602         0.815      0.256   \n",
        "2009-11-01   -0.706    -0.745         -0.602         0.771      0.058   \n",
        "\n",
        "            sony ericsson  melway  \n",
        "2008-02-11          0.487  -0.054  \n",
        "2008-12-21          0.973  -0.082  \n",
        "2008-12-28          0.744  -0.193  \n",
        "2009-04-01          0.618  -0.070  \n",
        "2009-11-01          0.596  -0.034  "
       ]
      }
     ],
     "prompt_number": 48
    },
    {
     "cell_type": "markdown",
     "metadata": {
      "slideshow": {
       "slide_type": "slide"
      }
     },
     "source": [
      "Plotting is built in and easier for dates than matplotlib"
     ]
    },
    {
     "cell_type": "code",
     "collapsed": false,
     "input": [
      "_ = trend.plot(figsize=(10, 6))\n",
      "_ = plt.legend(loc='best', ncol=2)"
     ],
     "language": "python",
     "metadata": {
      "slideshow": {
       "slide_type": "-"
      }
     },
     "outputs": [
      {
       "metadata": {},
       "output_type": "display_data",
       "png": "[encoded data removed]",
       "text": [
        "<matplotlib.figure.Figure at 0x109b3d3d0>"
       ]
      }
     ],
     "prompt_number": 49
    },
    {
     "cell_type": "markdown",
     "metadata": {
      "slideshow": {
       "slide_type": "slide"
      }
     },
     "source": [
      "We can also do it for a single column"
     ]
    },
    {
     "cell_type": "code",
     "collapsed": false,
     "input": [
      "_ = trend.hipster.cumsum().plot()"
     ],
     "language": "python",
     "metadata": {},
     "outputs": [
      {
       "metadata": {},
       "output_type": "display_data",
       "png": "[encoded data removed]",
       "text": [
        "<matplotlib.figure.Figure at 0x109bc9590>"
       ]
      }
     ],
     "prompt_number": 50
    },
    {
     "cell_type": "markdown",
     "metadata": {
      "slideshow": {
       "slide_type": "slide"
      }
     },
     "source": [
      "Or split the columns out to subplots"
     ]
    },
    {
     "cell_type": "code",
     "collapsed": false,
     "input": [
      "axs = trend.plot(subplots=True, figsize=(10, 10))"
     ],
     "language": "python",
     "metadata": {
      "slideshow": {
       "slide_type": "-"
      }
     },
     "outputs": [
      {
       "metadata": {},
       "output_type": "display_data",
       "png": "[encoded data removed]",
       "text": [
        "<matplotlib.figure.Figure at 0x10a626c10>"
       ]
      }
     ],
     "prompt_number": 60
    },
    {
     "cell_type": "markdown",
     "metadata": {
      "slideshow": {
       "slide_type": "slide"
      }
     },
     "source": [
      "Resampling data is also straight forward."
     ]
    },
    {
     "cell_type": "code",
     "collapsed": false,
     "input": [
      "# resample by month\n",
      "trend.resample('M', how='mean').head()"
     ],
     "language": "python",
     "metadata": {},
     "outputs": [
      {
       "html": [
        "<div style=\"max-height:1000px;max-width:1500px;overflow:auto;\">\n",
        "<table border=\"1\" class=\"dataframe\">\n",
        "  <thead>\n",
        "    <tr style=\"text-align: right;\">\n",
        "      <th></th>\n",
        "      <th>hipster</th>\n",
        "      <th>modcloth</th>\n",
        "      <th>gumtree perth</th>\n",
        "      <th>yellow pages</th>\n",
        "      <th>babelfish</th>\n",
        "      <th>sony ericsson</th>\n",
        "      <th>melway</th>\n",
        "    </tr>\n",
        "  </thead>\n",
        "  <tbody>\n",
        "    <tr>\n",
        "      <th>2004-01-31</th>\n",
        "      <td>-0.84550</td>\n",
        "      <td>-0.817</td>\n",
        "      <td>-0.844</td>\n",
        "      <td> 0.7915</td>\n",
        "      <td> 0.16075</td>\n",
        "      <td> 0.60925</td>\n",
        "      <td> 0.8645</td>\n",
        "    </tr>\n",
        "    <tr>\n",
        "      <th>2004-02-29</th>\n",
        "      <td>-0.76725</td>\n",
        "      <td>-0.817</td>\n",
        "      <td>-0.844</td>\n",
        "      <td> 0.5880</td>\n",
        "      <td> 0.23400</td>\n",
        "      <td> 0.60125</td>\n",
        "      <td> 0.9355</td>\n",
        "    </tr>\n",
        "    <tr>\n",
        "      <th>2004-03-31</th>\n",
        "      <td>-0.81675</td>\n",
        "      <td>-0.817</td>\n",
        "      <td>-0.844</td>\n",
        "      <td> 0.4460</td>\n",
        "      <td> 0.40725</td>\n",
        "      <td> 0.78550</td>\n",
        "      <td> 0.8470</td>\n",
        "    </tr>\n",
        "    <tr>\n",
        "      <th>2004-04-30</th>\n",
        "      <td>-0.80260</td>\n",
        "      <td>-0.817</td>\n",
        "      <td>-0.844</td>\n",
        "      <td> 0.6992</td>\n",
        "      <td> 0.44000</td>\n",
        "      <td> 0.62420</td>\n",
        "      <td> 0.9614</td>\n",
        "    </tr>\n",
        "    <tr>\n",
        "      <th>2004-05-31</th>\n",
        "      <td>-0.77000</td>\n",
        "      <td>-0.817</td>\n",
        "      <td>-0.844</td>\n",
        "      <td> 0.4052</td>\n",
        "      <td> 0.53860</td>\n",
        "      <td> 1.07800</td>\n",
        "      <td> 0.7422</td>\n",
        "    </tr>\n",
        "  </tbody>\n",
        "</table>\n",
        "</div>"
       ],
       "metadata": {},
       "output_type": "pyout",
       "prompt_number": 52,
       "text": [
        "            hipster  modcloth  gumtree perth  yellow pages  babelfish  \\\n",
        "2004-01-31 -0.84550    -0.817         -0.844        0.7915    0.16075   \n",
        "2004-02-29 -0.76725    -0.817         -0.844        0.5880    0.23400   \n",
        "2004-03-31 -0.81675    -0.817         -0.844        0.4460    0.40725   \n",
        "2004-04-30 -0.80260    -0.817         -0.844        0.6992    0.44000   \n",
        "2004-05-31 -0.77000    -0.817         -0.844        0.4052    0.53860   \n",
        "\n",
        "            sony ericsson  melway  \n",
        "2004-01-31        0.60925  0.8645  \n",
        "2004-02-29        0.60125  0.9355  \n",
        "2004-03-31        0.78550  0.8470  \n",
        "2004-04-30        0.62420  0.9614  \n",
        "2004-05-31        1.07800  0.7422  "
       ]
      }
     ],
     "prompt_number": 52
    },
    {
     "cell_type": "markdown",
     "metadata": {
      "slideshow": {
       "slide_type": "slide"
      }
     },
     "source": [
      "but one can do business day, week, month, quarter, annual and a bunch of others"
     ]
    },
    {
     "cell_type": "code",
     "collapsed": false,
     "input": [
      "trend.resample('M', how='mean').hipster.dropna().plot()"
     ],
     "language": "python",
     "metadata": {},
     "outputs": [
      {
       "metadata": {},
       "output_type": "pyout",
       "prompt_number": 67,
       "text": [
        "<matplotlib.axes._subplots.AxesSubplot at 0x109bc9950>"
       ]
      },
      {
       "metadata": {},
       "output_type": "display_data",
       "png": "[encoded data removed]",
       "text": [
        "<matplotlib.figure.Figure at 0x10c7b1850>"
       ]
      }
     ],
     "prompt_number": 67
    },
    {
     "cell_type": "markdown",
     "metadata": {
      "slideshow": {
       "slide_type": "slide"
      }
     },
     "source": [
      "Other fancy plots include a scatter matrix including a kernel density estimation (KDE)"
     ]
    },
    {
     "cell_type": "code",
     "collapsed": false,
     "input": [
      "# look at the relations\n",
      "_ = pd.scatter_matrix(trend, figsize=(12,8), diagonal='kde')"
     ],
     "language": "python",
     "metadata": {},
     "outputs": [
      {
       "metadata": {},
       "output_type": "display_data",
       "png": "[encoded data removed]",
       "text": [
        "<matplotlib.figure.Figure at 0x10a9c9b50>"
       ]
      }
     ],
     "prompt_number": 68
    },
    {
     "cell_type": "markdown",
     "metadata": {
      "slideshow": {
       "slide_type": "slide"
      }
     },
     "source": [
      "#Titanic: Machine Learning from Disaster (kaggle.com)\n",
      "Load the data, explore it and learn from it"
     ]
    },
    {
     "cell_type": "code",
     "collapsed": false,
     "input": [
      "df = pd.read_csv('train.csv', header=0)"
     ],
     "language": "python",
     "metadata": {},
     "outputs": [],
     "prompt_number": 69
    },
    {
     "cell_type": "code",
     "collapsed": false,
     "input": [
      "df.head()"
     ],
     "language": "python",
     "metadata": {},
     "outputs": [
      {
       "html": [
        "<div style=\"max-height:1000px;max-width:1500px;overflow:auto;\">\n",
        "<table border=\"1\" class=\"dataframe\">\n",
        "  <thead>\n",
        "    <tr style=\"text-align: right;\">\n",
        "      <th></th>\n",
        "      <th>PassengerId</th>\n",
        "      <th>Survived</th>\n",
        "      <th>Pclass</th>\n",
        "      <th>Name</th>\n",
        "      <th>Sex</th>\n",
        "      <th>Age</th>\n",
        "      <th>SibSp</th>\n",
        "      <th>Parch</th>\n",
        "      <th>Ticket</th>\n",
        "      <th>Fare</th>\n",
        "      <th>Cabin</th>\n",
        "      <th>Embarked</th>\n",
        "    </tr>\n",
        "  </thead>\n",
        "  <tbody>\n",
        "    <tr>\n",
        "      <th>0</th>\n",
        "      <td> 1</td>\n",
        "      <td> 0</td>\n",
        "      <td> 3</td>\n",
        "      <td>                           Braund, Mr. Owen Harris</td>\n",
        "      <td>   male</td>\n",
        "      <td> 22</td>\n",
        "      <td> 1</td>\n",
        "      <td> 0</td>\n",
        "      <td>        A/5 21171</td>\n",
        "      <td>  7.2500</td>\n",
        "      <td>  NaN</td>\n",
        "      <td> S</td>\n",
        "    </tr>\n",
        "    <tr>\n",
        "      <th>1</th>\n",
        "      <td> 2</td>\n",
        "      <td> 1</td>\n",
        "      <td> 1</td>\n",
        "      <td> Cumings, Mrs. John Bradley (Florence Briggs Th...</td>\n",
        "      <td> female</td>\n",
        "      <td> 38</td>\n",
        "      <td> 1</td>\n",
        "      <td> 0</td>\n",
        "      <td>         PC 17599</td>\n",
        "      <td> 71.2833</td>\n",
        "      <td>  C85</td>\n",
        "      <td> C</td>\n",
        "    </tr>\n",
        "    <tr>\n",
        "      <th>2</th>\n",
        "      <td> 3</td>\n",
        "      <td> 1</td>\n",
        "      <td> 3</td>\n",
        "      <td>                            Heikkinen, Miss. Laina</td>\n",
        "      <td> female</td>\n",
        "      <td> 26</td>\n",
        "      <td> 0</td>\n",
        "      <td> 0</td>\n",
        "      <td> STON/O2. 3101282</td>\n",
        "      <td>  7.9250</td>\n",
        "      <td>  NaN</td>\n",
        "      <td> S</td>\n",
        "    </tr>\n",
        "    <tr>\n",
        "      <th>3</th>\n",
        "      <td> 4</td>\n",
        "      <td> 1</td>\n",
        "      <td> 1</td>\n",
        "      <td>      Futrelle, Mrs. Jacques Heath (Lily May Peel)</td>\n",
        "      <td> female</td>\n",
        "      <td> 35</td>\n",
        "      <td> 1</td>\n",
        "      <td> 0</td>\n",
        "      <td>           113803</td>\n",
        "      <td> 53.1000</td>\n",
        "      <td> C123</td>\n",
        "      <td> S</td>\n",
        "    </tr>\n",
        "    <tr>\n",
        "      <th>4</th>\n",
        "      <td> 5</td>\n",
        "      <td> 0</td>\n",
        "      <td> 3</td>\n",
        "      <td>                          Allen, Mr. William Henry</td>\n",
        "      <td>   male</td>\n",
        "      <td> 35</td>\n",
        "      <td> 0</td>\n",
        "      <td> 0</td>\n",
        "      <td>           373450</td>\n",
        "      <td>  8.0500</td>\n",
        "      <td>  NaN</td>\n",
        "      <td> S</td>\n",
        "    </tr>\n",
        "  </tbody>\n",
        "</table>\n",
        "</div>"
       ],
       "metadata": {},
       "output_type": "pyout",
       "prompt_number": 70,
       "text": [
        "   PassengerId  Survived  Pclass  \\\n",
        "0            1         0       3   \n",
        "1            2         1       1   \n",
        "2            3         1       3   \n",
        "3            4         1       1   \n",
        "4            5         0       3   \n",
        "\n",
        "                                                Name     Sex  Age  SibSp  \\\n",
        "0                            Braund, Mr. Owen Harris    male   22      1   \n",
        "1  Cumings, Mrs. John Bradley (Florence Briggs Th...  female   38      1   \n",
        "2                             Heikkinen, Miss. Laina  female   26      0   \n",
        "3       Futrelle, Mrs. Jacques Heath (Lily May Peel)  female   35      1   \n",
        "4                           Allen, Mr. William Henry    male   35      0   \n",
        "\n",
        "   Parch            Ticket     Fare Cabin Embarked  \n",
        "0      0         A/5 21171   7.2500   NaN        S  \n",
        "1      0          PC 17599  71.2833   C85        C  \n",
        "2      0  STON/O2. 3101282   7.9250   NaN        S  \n",
        "3      0            113803  53.1000  C123        S  \n",
        "4      0            373450   8.0500   NaN        S  "
       ]
      }
     ],
     "prompt_number": 70
    },
    {
     "cell_type": "markdown",
     "metadata": {
      "slideshow": {
       "slide_type": "slide"
      }
     },
     "source": [
      "Lets look at the data types here (this time they're heterogeneous)"
     ]
    },
    {
     "cell_type": "code",
     "collapsed": false,
     "input": [
      "df.dtypes"
     ],
     "language": "python",
     "metadata": {},
     "outputs": [
      {
       "metadata": {},
       "output_type": "pyout",
       "prompt_number": 71,
       "text": [
        "PassengerId      int64\n",
        "Survived         int64\n",
        "Pclass           int64\n",
        "Name            object\n",
        "Sex             object\n",
        "Age            float64\n",
        "SibSp            int64\n",
        "Parch            int64\n",
        "Ticket          object\n",
        "Fare           float64\n",
        "Cabin           object\n",
        "Embarked        object\n",
        "dtype: object"
       ]
      }
     ],
     "prompt_number": 71
    },
    {
     "cell_type": "markdown",
     "metadata": {
      "slideshow": {
       "slide_type": "slide"
      }
     },
     "source": [
      "We can also get a more verbose summary"
     ]
    },
    {
     "cell_type": "code",
     "collapsed": false,
     "input": [
      "df.info()"
     ],
     "language": "python",
     "metadata": {},
     "outputs": [
      {
       "output_type": "stream",
       "stream": "stdout",
       "text": [
        "<class 'pandas.core.frame.DataFrame'>\n",
        "Int64Index: 891 entries, 0 to 890\n",
        "Data columns (total 12 columns):\n",
        "PassengerId    891 non-null int64\n",
        "Survived       891 non-null int64\n",
        "Pclass         891 non-null int64\n",
        "Name           891 non-null object\n",
        "Sex            891 non-null object\n",
        "Age            714 non-null float64\n",
        "SibSp          891 non-null int64\n",
        "Parch          891 non-null int64\n",
        "Ticket         891 non-null object\n",
        "Fare           891 non-null float64\n",
        "Cabin          204 non-null object\n",
        "Embarked       889 non-null object\n",
        "dtypes: float64(2), int64(5), object(5)"
       ]
      }
     ],
     "prompt_number": 72
    },
    {
     "cell_type": "markdown",
     "metadata": {
      "slideshow": {
       "slide_type": "slide"
      }
     },
     "source": [
      "DataFrames can be grouped, like in SQL\n",
      "(_it sucked to be a young male on the titanic_)"
     ]
    },
    {
     "cell_type": "code",
     "collapsed": false,
     "input": [
      "df_grouped = df.groupby(['Pclass', 'Sex'])"
     ],
     "language": "python",
     "metadata": {},
     "outputs": [],
     "prompt_number": 73
    },
    {
     "cell_type": "code",
     "collapsed": false,
     "input": [
      "df_grouped[['Age', 'Survived']].mean()"
     ],
     "language": "python",
     "metadata": {},
     "outputs": [
      {
       "html": [
        "<div style=\"max-height:1000px;max-width:1500px;overflow:auto;\">\n",
        "<table border=\"1\" class=\"dataframe\">\n",
        "  <thead>\n",
        "    <tr style=\"text-align: right;\">\n",
        "      <th></th>\n",
        "      <th></th>\n",
        "      <th>Age</th>\n",
        "      <th>Survived</th>\n",
        "    </tr>\n",
        "    <tr>\n",
        "      <th>Pclass</th>\n",
        "      <th>Sex</th>\n",
        "      <th></th>\n",
        "      <th></th>\n",
        "    </tr>\n",
        "  </thead>\n",
        "  <tbody>\n",
        "    <tr>\n",
        "      <th rowspan=\"2\" valign=\"top\">1</th>\n",
        "      <th>female</th>\n",
        "      <td> 34.611765</td>\n",
        "      <td> 0.968085</td>\n",
        "    </tr>\n",
        "    <tr>\n",
        "      <th>male</th>\n",
        "      <td> 41.281386</td>\n",
        "      <td> 0.368852</td>\n",
        "    </tr>\n",
        "    <tr>\n",
        "      <th rowspan=\"2\" valign=\"top\">2</th>\n",
        "      <th>female</th>\n",
        "      <td> 28.722973</td>\n",
        "      <td> 0.921053</td>\n",
        "    </tr>\n",
        "    <tr>\n",
        "      <th>male</th>\n",
        "      <td> 30.740707</td>\n",
        "      <td> 0.157407</td>\n",
        "    </tr>\n",
        "    <tr>\n",
        "      <th rowspan=\"2\" valign=\"top\">3</th>\n",
        "      <th>female</th>\n",
        "      <td> 21.750000</td>\n",
        "      <td> 0.500000</td>\n",
        "    </tr>\n",
        "    <tr>\n",
        "      <th>male</th>\n",
        "      <td> 26.507589</td>\n",
        "      <td> 0.135447</td>\n",
        "    </tr>\n",
        "  </tbody>\n",
        "</table>\n",
        "</div>"
       ],
       "metadata": {},
       "output_type": "pyout",
       "prompt_number": 74,
       "text": [
        "                     Age  Survived\n",
        "Pclass Sex                        \n",
        "1      female  34.611765  0.968085\n",
        "       male    41.281386  0.368852\n",
        "2      female  28.722973  0.921053\n",
        "       male    30.740707  0.157407\n",
        "3      female  21.750000  0.500000\n",
        "       male    26.507589  0.135447"
       ]
      }
     ],
     "prompt_number": 74
    },
    {
     "cell_type": "markdown",
     "metadata": {
      "slideshow": {
       "slide_type": "slide"
      }
     },
     "source": [
      "Histograms are straightforward"
     ]
    },
    {
     "cell_type": "code",
     "collapsed": false,
     "input": [
      "ax = df['Age'].dropna().hist(bins=20, range=(0,100), alpha = .5)\n",
      "ax.set_xlabel('Age')\n",
      "ax.set_ylabel('Passenger Count')"
     ],
     "language": "python",
     "metadata": {},
     "outputs": [
      {
       "metadata": {},
       "output_type": "pyout",
       "prompt_number": 75,
       "text": [
        "<matplotlib.text.Text at 0x11019a710>"
       ]
      },
      {
       "metadata": {},
       "output_type": "display_data",
       "png": "[encoded data removed]",
       "text": [
        "<matplotlib.figure.Figure at 0x110184790>"
       ]
      }
     ],
     "prompt_number": 75
    },
    {
     "cell_type": "markdown",
     "metadata": {
      "slideshow": {
       "slide_type": "slide"
      }
     },
     "source": [
      "So are boxplots"
     ]
    },
    {
     "cell_type": "code",
     "collapsed": false,
     "input": [
      "bp = df.boxplot(column='Age', by='Pclass', grid=False)\n",
      "# for i in set(df.Pclass):\n",
      "#     y = df.Age[df.Pclass==i].dropna()\n",
      "#     # Add some random \"jitter\" to the x-axis\n",
      "#     x = np.random.normal(i, 0.04, size=len(y))\n",
      "#     plt.plot(x, y, 'r.', alpha=0.2)"
     ],
     "language": "python",
     "metadata": {},
     "outputs": [
      {
       "metadata": {},
       "output_type": "display_data",
       "png": "[encoded data removed]",
       "text": [
        "<matplotlib.figure.Figure at 0x10ef27b10>"
       ]
      }
     ],
     "prompt_number": 101
    },
    {
     "cell_type": "markdown",
     "metadata": {
      "slideshow": {
       "slide_type": "slide"
      }
     },
     "source": [
      "If we want to do some learning on this data.. lets convert gender to a binary numeric"
     ]
    },
    {
     "cell_type": "code",
     "collapsed": false,
     "input": [
      "df['isFemale'] = df['Sex'].map( {'female': 1, 'male': 0} ).astype(int)\n",
      "df[['Sex','isFemale']].head()"
     ],
     "language": "python",
     "metadata": {},
     "outputs": [
      {
       "html": [
        "<div style=\"max-height:1000px;max-width:1500px;overflow:auto;\">\n",
        "<table border=\"1\" class=\"dataframe\">\n",
        "  <thead>\n",
        "    <tr style=\"text-align: right;\">\n",
        "      <th></th>\n",
        "      <th>Sex</th>\n",
        "      <th>isFemale</th>\n",
        "    </tr>\n",
        "  </thead>\n",
        "  <tbody>\n",
        "    <tr>\n",
        "      <th>0</th>\n",
        "      <td>   male</td>\n",
        "      <td> 0</td>\n",
        "    </tr>\n",
        "    <tr>\n",
        "      <th>1</th>\n",
        "      <td> female</td>\n",
        "      <td> 1</td>\n",
        "    </tr>\n",
        "    <tr>\n",
        "      <th>2</th>\n",
        "      <td> female</td>\n",
        "      <td> 1</td>\n",
        "    </tr>\n",
        "    <tr>\n",
        "      <th>3</th>\n",
        "      <td> female</td>\n",
        "      <td> 1</td>\n",
        "    </tr>\n",
        "    <tr>\n",
        "      <th>4</th>\n",
        "      <td>   male</td>\n",
        "      <td> 0</td>\n",
        "    </tr>\n",
        "  </tbody>\n",
        "</table>\n",
        "</div>"
       ],
       "metadata": {},
       "output_type": "pyout",
       "prompt_number": 77,
       "text": [
        "      Sex  isFemale\n",
        "0    male         0\n",
        "1  female         1\n",
        "2  female         1\n",
        "3  female         1\n",
        "4    male         0"
       ]
      }
     ],
     "prompt_number": 77
    },
    {
     "cell_type": "markdown",
     "metadata": {
      "slideshow": {
       "slide_type": "slide"
      }
     },
     "source": [
      "Find non-numeric columns so we can drop them later"
     ]
    },
    {
     "cell_type": "code",
     "collapsed": false,
     "input": [
      "drop_cols = df.columns[df.dtypes.map(lambda x: x=='object')]\n",
      "drop_cols"
     ],
     "language": "python",
     "metadata": {
      "slideshow": {
       "slide_type": "-"
      }
     },
     "outputs": [
      {
       "metadata": {},
       "output_type": "pyout",
       "prompt_number": 78,
       "text": [
        "Index([u'Name', u'Sex', u'Ticket', u'Cabin', u'Embarked'], dtype='object')"
       ]
      }
     ],
     "prompt_number": 78
    },
    {
     "cell_type": "code",
     "collapsed": false,
     "input": [
      "df.info()"
     ],
     "language": "python",
     "metadata": {},
     "outputs": [
      {
       "output_type": "stream",
       "stream": "stdout",
       "text": [
        "<class 'pandas.core.frame.DataFrame'>\n",
        "Int64Index: 891 entries, 0 to 890\n",
        "Data columns (total 13 columns):\n",
        "PassengerId    891 non-null int64\n",
        "Survived       891 non-null int64\n",
        "Pclass         891 non-null int64\n",
        "Name           891 non-null object\n",
        "Sex            891 non-null object\n",
        "Age            714 non-null float64\n",
        "SibSp          891 non-null int64\n",
        "Parch          891 non-null int64\n",
        "Ticket         891 non-null object\n",
        "Fare           891 non-null float64\n",
        "Cabin          204 non-null object\n",
        "Embarked       889 non-null object\n",
        "isFemale       891 non-null int64\n",
        "dtypes: float64(2), int64(6), object(5)"
       ]
      }
     ],
     "prompt_number": 79
    },
    {
     "cell_type": "markdown",
     "metadata": {
      "slideshow": {
       "slide_type": "slide"
      }
     },
     "source": [
      "Setup our data to learn from"
     ]
    },
    {
     "cell_type": "code",
     "collapsed": false,
     "input": [
      "X = pd.DataFrame(df[[c for c in df.columns if c != 'Survived']])\n",
      "X = X.drop(drop_cols, axis=1) \n",
      "X = X.drop('PassengerId', axis=1)\n",
      "y = df.Survived\n",
      "print X.head()"
     ],
     "language": "python",
     "metadata": {
      "slideshow": {
       "slide_type": "-"
      }
     },
     "outputs": [
      {
       "output_type": "stream",
       "stream": "stdout",
       "text": [
        "   Pclass  Age  SibSp  Parch     Fare  isFemale\n",
        "0       3   22      1      0   7.2500         0\n",
        "1       1   38      1      0  71.2833         1\n",
        "2       3   26      0      0   7.9250         1\n",
        "3       1   35      1      0  53.1000         1\n",
        "4       3   35      0      0   8.0500         0\n"
       ]
      }
     ],
     "prompt_number": 80
    },
    {
     "cell_type": "markdown",
     "metadata": {
      "slideshow": {
       "slide_type": "slide"
      }
     },
     "source": [
      "Have a quick look at the class distribution"
     ]
    },
    {
     "cell_type": "code",
     "collapsed": false,
     "input": [
      "y.groupby(y.values).count()"
     ],
     "language": "python",
     "metadata": {},
     "outputs": [
      {
       "metadata": {},
       "output_type": "pyout",
       "prompt_number": 81,
       "text": [
        "0    549\n",
        "1    342\n",
        "Name: Survived, dtype: int64"
       ]
      }
     ],
     "prompt_number": 81
    },
    {
     "cell_type": "markdown",
     "metadata": {},
     "source": [
      "and fill in some NaNs for age"
     ]
    },
    {
     "cell_type": "code",
     "collapsed": false,
     "input": [
      "X['Age'] = X.Age.fillna(X.Age.median())"
     ],
     "language": "python",
     "metadata": {},
     "outputs": [],
     "prompt_number": 82
    },
    {
     "cell_type": "markdown",
     "metadata": {
      "slideshow": {
       "slide_type": "slide"
      }
     },
     "source": [
      "<h1>scikit-learn</h1>\n",
      "<h2>Machine Learning in Python</h2>\n",
      "<ul>\n",
      "<li>Simple and efficient tools for data mining and data analysis</li>\n",
      "<li>Accessible to everybody, and reusable in various contexts</li>\n",
      "<li>Built on NumPy, SciPy, and matplotlib</li>\n",
      "<li>Open source, commercially usable - BSD license</li>\n",
      "</ul>"
     ]
    },
    {
     "cell_type": "markdown",
     "metadata": {
      "slideshow": {
       "slide_type": "slide"
      }
     },
     "source": [
      "###What is Machine Learning?\n",
      "_Machine learning, a branch of artificial intelligence, concerns the construction and study of systems that can learn from data_\n",
      "<b>thanks wikipedia</b>\n",
      "\n",
      "<img src='plot_separating_hyperplane_11.png'/>"
     ]
    },
    {
     "cell_type": "markdown",
     "metadata": {
      "slideshow": {
       "slide_type": "slide"
      }
     },
     "source": [
      "Prediction with scikit-learn is easy - who will survive?"
     ]
    },
    {
     "cell_type": "code",
     "collapsed": false,
     "input": [
      "from sklearn.linear_model import LogisticRegression\n",
      "from sklearn.metrics import accuracy_score as acc"
     ],
     "language": "python",
     "metadata": {},
     "outputs": [],
     "prompt_number": 83
    },
    {
     "cell_type": "code",
     "collapsed": false,
     "input": [
      "# create our classifier\n",
      "clf = LogisticRegression()\n",
      "# fit it to the data\n",
      "clf.fit(X, y)\n",
      "# and predict\n",
      "preds = clf.predict(X)\n",
      "res_acc = acc(y, preds)\n",
      "print 'Accuracy Score: {:.2f}'.format(res_acc)\n",
      "print 'Not too bad'"
     ],
     "language": "python",
     "metadata": {},
     "outputs": [
      {
       "output_type": "stream",
       "stream": "stdout",
       "text": [
        "Accuracy Score: 0.80\n",
        "Not too bad\n"
       ]
      }
     ],
     "prompt_number": 84
    },
    {
     "cell_type": "markdown",
     "metadata": {
      "slideshow": {
       "slide_type": "slide"
      }
     },
     "source": [
      "##Cross-validation is a fairer performance estimate\n",
      "<img src='crossval.jpg' />"
     ]
    },
    {
     "cell_type": "code",
     "collapsed": false,
     "input": [
      "from sklearn.cross_validation import KFold"
     ],
     "language": "python",
     "metadata": {
      "slideshow": {
       "slide_type": "slide"
      }
     },
     "outputs": [],
     "prompt_number": 85
    },
    {
     "cell_type": "code",
     "collapsed": false,
     "input": [
      "cv = KFold(n=len(y), n_folds=5, shuffle=True)\n",
      "preds = np.zeros_like(y)\n",
      "for train, test in cv:\n",
      "    clf = LogisticRegression()\n",
      "    clf.fit(X.ix[train], y.ix[train])\n",
      "    preds[test] = clf.predict(X.ix[test])\n",
      "res_acc = acc(y, preds)\n",
      "print 'Accuracy Score: {:.2f}'.format(res_acc)\n"
     ],
     "language": "python",
     "metadata": {},
     "outputs": [
      {
       "output_type": "stream",
       "stream": "stdout",
       "text": [
        "Accuracy Score: 0.79\n"
       ]
      }
     ],
     "prompt_number": 86
    },
    {
     "cell_type": "markdown",
     "metadata": {
      "slideshow": {
       "slide_type": "slide"
      }
     },
     "source": [
      "And cross-validation can be done more easily"
     ]
    },
    {
     "cell_type": "code",
     "collapsed": false,
     "input": [
      "# scikits can actually take care of this for us\n",
      "from sklearn.cross_validation import cross_val_score\n",
      "\n",
      "# here\n",
      "clf = LogisticRegression()\n",
      "scores = cross_val_score(clf, X, y, cv=5, scoring='accuracy')\n",
      "# to here\n",
      "\n",
      "print scores\n",
      "print(\"Accuracy: %0.2f (+/- %0.2f)\" % (scores.mean(), scores.std() * 2))"
     ],
     "language": "python",
     "metadata": {},
     "outputs": [
      {
       "output_type": "stream",
       "stream": "stdout",
       "text": [
        "[ 0.78212291  0.77094972  0.78651685  0.75842697  0.81920904]\n",
        "Accuracy: 0.78 (+/- 0.04)\n"
       ]
      }
     ],
     "prompt_number": 87
    },
    {
     "cell_type": "markdown",
     "metadata": {
      "slideshow": {
       "slide_type": "slide"
      }
     },
     "source": [
      "### dealing with categorical data"
     ]
    },
    {
     "cell_type": "code",
     "collapsed": false,
     "input": [
      "df.Embarked.head()"
     ],
     "language": "python",
     "metadata": {},
     "outputs": [
      {
       "metadata": {},
       "output_type": "pyout",
       "prompt_number": 88,
       "text": [
        "0    S\n",
        "1    C\n",
        "2    S\n",
        "3    S\n",
        "4    S\n",
        "Name: Embarked, dtype: object"
       ]
      }
     ],
     "prompt_number": 88
    },
    {
     "cell_type": "code",
     "collapsed": false,
     "input": [
      "set(df.Embarked.fillna('O'))"
     ],
     "language": "python",
     "metadata": {},
     "outputs": [
      {
       "metadata": {},
       "output_type": "pyout",
       "prompt_number": 89,
       "text": [
        "{'C', 'O', 'Q', 'S'}"
       ]
      }
     ],
     "prompt_number": 89
    },
    {
     "cell_type": "markdown",
     "metadata": {
      "slideshow": {
       "slide_type": "slide"
      }
     },
     "source": [
      "Use the LabelEncoder"
     ]
    },
    {
     "cell_type": "code",
     "collapsed": false,
     "input": [
      "from sklearn import preprocessing\n",
      "df.Embarked = df.Embarked.fillna('O')\n",
      "le = preprocessing.LabelEncoder()\n",
      "le.fit(df.Embarked.values)\n",
      "le.classes_\n"
     ],
     "language": "python",
     "metadata": {
      "slideshow": {
       "slide_type": "-"
      }
     },
     "outputs": [
      {
       "metadata": {},
       "output_type": "pyout",
       "prompt_number": 90,
       "text": [
        "array(['C', 'O', 'Q', 'S'], dtype=object)"
       ]
      }
     ],
     "prompt_number": 90
    },
    {
     "cell_type": "code",
     "collapsed": false,
     "input": [
      "X['Embarked'] = le.transform(df.Embarked.values)\n",
      "X.Embarked.head()"
     ],
     "language": "python",
     "metadata": {},
     "outputs": [
      {
       "metadata": {},
       "output_type": "pyout",
       "prompt_number": 91,
       "text": [
        "0    3\n",
        "1    0\n",
        "2    3\n",
        "3    3\n",
        "4    3\n",
        "Name: Embarked, dtype: int64"
       ]
      }
     ],
     "prompt_number": 91
    },
    {
     "cell_type": "markdown",
     "metadata": {
      "slideshow": {
       "slide_type": "slide"
      }
     },
     "source": [
      "### tuning classifier parameters"
     ]
    },
    {
     "cell_type": "code",
     "collapsed": false,
     "input": [
      "for C in [0.001, 0.01, 0.1, 1, 10, 100]:\n",
      "    clf = LogisticRegression(C=C, penalty='l1')\n",
      "    scores = cross_val_score(clf, X, y, cv=5, scoring='accuracy')    \n",
      "    print(\"n_estimators: {:3.3f}\\tAccuracy: {:.2f} (+/- {:.2f})\"\n",
      "          .format(C, scores.mean(), scores.std() * 2))"
     ],
     "language": "python",
     "metadata": {},
     "outputs": [
      {
       "output_type": "stream",
       "stream": "stdout",
       "text": [
        "n_estimators: 0.001\tAccuracy: 0.66 (+/- 0.08)\n",
        "n_estimators: 0.010\tAccuracy: 0.67 (+/- 0.08)\n",
        "n_estimators: 0.100\tAccuracy: 0.79 (+/- 0.04)\n",
        "n_estimators: 1.000\tAccuracy: 0.79 (+/- 0.04)"
       ]
      },
      {
       "output_type": "stream",
       "stream": "stdout",
       "text": [
        "\n",
        "n_estimators: 10.000\tAccuracy: 0.78 (+/- 0.04)\n",
        "n_estimators: 100.000\tAccuracy: 0.78 (+/- 0.03)"
       ]
      },
      {
       "output_type": "stream",
       "stream": "stdout",
       "text": [
        "\n"
       ]
      }
     ],
     "prompt_number": 94
    },
    {
     "cell_type": "markdown",
     "metadata": {
      "slideshow": {
       "slide_type": "slide"
      }
     },
     "source": [
      "### Comparing classifiers is easy"
     ]
    },
    {
     "cell_type": "code",
     "collapsed": false,
     "input": [
      "# normalise the data\n",
      "from sklearn.preprocessing import StandardScaler\n",
      "X = StandardScaler().fit_transform(X)"
     ],
     "language": "python",
     "metadata": {},
     "outputs": [],
     "prompt_number": 95
    },
    {
     "cell_type": "code",
     "collapsed": false,
     "input": [
      "from sklearn.linear_model import LogisticRegression\n",
      "from sklearn.neighbors import KNeighborsClassifier\n",
      "from sklearn.svm import SVC\n",
      "from sklearn.tree import DecisionTreeClassifier\n",
      "from sklearn.ensemble import RandomForestClassifier, AdaBoostClassifier\n",
      "from sklearn.naive_bayes import GaussianNB\n",
      "from sklearn.lda import LDA\n",
      "from sklearn.qda import QDA\n",
      "\n",
      "names = [\"Nearest Neighbors\", \"Linear SVM\", \"RBF SVM\", \"Decision Tree\",\n",
      "         \"Random Forest\", \"AdaBoost\", \"Naive Bayes\", \"LDA\",\n",
      "         \"QDA\", \"Logistic Regression\"]\n",
      "classifiers = [\n",
      "    KNeighborsClassifier(3),\n",
      "    SVC(kernel=\"linear\", C=0.025),\n",
      "    SVC(gamma=2, C=1),\n",
      "    DecisionTreeClassifier(),\n",
      "    RandomForestClassifier(),\n",
      "    AdaBoostClassifier(),\n",
      "    GaussianNB(),\n",
      "    LDA(),\n",
      "    QDA(),\n",
      "    LogisticRegression(class_weight='auto')]\n",
      "\n"
     ],
     "language": "python",
     "metadata": {},
     "outputs": [],
     "prompt_number": 96
    },
    {
     "cell_type": "code",
     "collapsed": false,
     "input": [
      "# fit each classifier and find the mean performance\n",
      "res = []\n",
      "for name, clf in zip(names, classifiers):\n",
      "    scores = cross_val_score(clf, X, y, cv=5, scoring='accuracy')\n",
      "    res.append(scores.mean())"
     ],
     "language": "python",
     "metadata": {
      "slideshow": {
       "slide_type": "slide"
      }
     },
     "outputs": [],
     "prompt_number": 97
    },
    {
     "cell_type": "code",
     "collapsed": false,
     "input": [
      "import prettyplotlib as ppl\n",
      "res = np.array(res)\n",
      "names = np.array(names)\n",
      "idx = np.argsort(res)[::-1]\n",
      "fig, ax = plt.subplots(1, figsize=(14, 6))\n",
      "ppl.bar(ax, np.arange(len(res)), res[idx], annotate=True,\n",
      "        xticklabels=names[idx], grid='y')\n",
      "plt.xticks(rotation=30)\n",
      "_ = ax.set_ylim(res.min() * 0.95, res.max() * 1.05)"
     ],
     "language": "python",
     "metadata": {
      "slideshow": {
       "slide_type": "slide"
      }
     },
     "outputs": [
      {
       "metadata": {},
       "output_type": "display_data",
       "png": "[encoded data removed]",
       "text": [
        "<matplotlib.figure.Figure at 0x10f684c50>"
       ]
      }
     ],
     "prompt_number": 98
    },
    {
     "cell_type": "markdown",
     "metadata": {
      "slideshow": {
       "slide_type": "slide"
      }
     },
     "source": [
      "Models can be pickled"
     ]
    },
    {
     "cell_type": "code",
     "collapsed": false,
     "input": [
      "# models can be saved\n",
      "import pickle\n",
      "s = pickle.dumps(clf)\n",
      "\n",
      "    "
     ],
     "language": "python",
     "metadata": {
      "slideshow": {
       "slide_type": "-"
      }
     },
     "outputs": []
    },
    {
     "cell_type": "markdown",
     "metadata": {
      "slideshow": {
       "slide_type": "slide"
      }
     },
     "source": [
      "## And there is a whole lot scikit-learn can do..\n",
      "+ ###supervised learning\n",
      "+ ###model evaluation\n",
      "+ ###unsupervised learning\n",
      "+ ###feature selection\n",
      "+ ###feature extraction\n"
     ]
    },
    {
     "cell_type": "markdown",
     "metadata": {
      "slideshow": {
       "slide_type": "slide"
      }
     },
     "source": [
      "_by Andreas Mueller_\n",
      "<img src='cheat_sheet.png'/>"
     ]
    }
   ],
   "metadata": {}
  }
 ]
}